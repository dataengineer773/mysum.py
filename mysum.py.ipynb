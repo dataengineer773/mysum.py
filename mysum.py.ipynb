{
 "cells": [
  {
   "cell_type": "code",
   "execution_count": 1,
   "id": "80c19ddf-6f90-4661-9fc2-f449faf49ae6",
   "metadata": {},
   "outputs": [],
   "source": [
    "import functools\n",
    "import operator\n",
    "from collections.abc import Iterable\n",
    "from typing import overload, Union, TypeVar"
   ]
  },
  {
   "cell_type": "code",
   "execution_count": 2,
   "id": "77c5cb03-109d-42a9-a56f-1fd2e79a65fd",
   "metadata": {},
   "outputs": [],
   "source": [
    "import collections.abc\n",
    "#hyper needs the four following aliases to be done manually.\n",
    "collections.Iterable = collections.abc.Iterable\n",
    "collections.Mapping = collections.abc.Mapping\n",
    "collections.MutableSet = collections.abc.MutableSet\n",
    "collections.MutableMapping = collections.abc.MutableMapping"
   ]
  },
  {
   "cell_type": "code",
   "execution_count": 3,
   "id": "c525aa4a-562f-464f-891f-86bac90a366d",
   "metadata": {},
   "outputs": [],
   "source": [
    "T = TypeVar('T')\n",
    "S = TypeVar('S')"
   ]
  },
  {
   "cell_type": "code",
   "execution_count": 4,
   "id": "85d9c6e1-eeb0-4028-b212-a03726fa615d",
   "metadata": {},
   "outputs": [],
   "source": [
    "@overload\n",
    "def sum(it: Iterable[T]) -> Union[T, int]: ..."
   ]
  },
  {
   "cell_type": "raw",
   "id": "c5f2798b-28a9-4537-93b3-887430cf5626",
   "metadata": {},
   "source": [
    "@overload\n",
    "def sum(it: Iterable[T], /, start: S) -> Union[T, S]: ..."
   ]
  },
  {
   "cell_type": "code",
   "execution_count": 5,
   "id": "c237748f-3366-4095-971a-04f815e84524",
   "metadata": {},
   "outputs": [],
   "source": [
    "def sum(it, /, start=0):\n",
    "    return functools.reduce(operator.add, it, start)"
   ]
  },
  {
   "cell_type": "code",
   "execution_count": null,
   "id": "7bd5d169-381e-4e2c-a701-da7e364625a7",
   "metadata": {},
   "outputs": [],
   "source": []
  }
 ],
 "metadata": {
  "kernelspec": {
   "display_name": "Python 3 (ipykernel)",
   "language": "python",
   "name": "python3"
  },
  "language_info": {
   "codemirror_mode": {
    "name": "ipython",
    "version": 3
   },
   "file_extension": ".py",
   "mimetype": "text/x-python",
   "name": "python",
   "nbconvert_exporter": "python",
   "pygments_lexer": "ipython3",
   "version": "3.12.3"
  }
 },
 "nbformat": 4,
 "nbformat_minor": 5
}
